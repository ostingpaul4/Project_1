{
 "cells": [
  {
   "cell_type": "code",
   "execution_count": 12,
   "id": "a3c89819",
   "metadata": {},
   "outputs": [],
   "source": [
    "import random\n",
    "def rps():\n",
    "    space=' '\n",
    "    l=0\n",
    "    w=0\n",
    "    while space==' ':\n",
    "        i=input('Enter Rock, Paper or Scissors: ')\n",
    "        if i.title()=='Rock':\n",
    "            u=1\n",
    "        elif i.title()=='Paper':\n",
    "            u=2\n",
    "        elif i.title()==\"Scissors\":\n",
    "            u=3\n",
    "        else:\n",
    "            print('Invalid Entry. Try Again.')\n",
    "            i=input('Enter Rock, Paper or Scissors: ')\n",
    "        o=random.randrange(1,3)\n",
    "        if o==1:\n",
    "            p='Rock'\n",
    "        elif o==2:\n",
    "            p='Paper'\n",
    "        else:\n",
    "            p='Scissors'\n",
    "        if o==u:\n",
    "            print('Tied! Try Again!')\n",
    "            i=input('Enter Rock, Paper or Scissors: ')\n",
    "        else: \n",
    "            pass\n",
    "        if u==1 and o==3:\n",
    "            print('You Won!')\n",
    "            w=w+1\n",
    "        elif u==1 and o==2:\n",
    "            print('You Lost!')\n",
    "            l=l+1\n",
    "        elif u==2 and o==1:\n",
    "            print('You Won!')\n",
    "            w=w+1\n",
    "        elif u==2 and o==3:\n",
    "            print('You Lost!')\n",
    "            l=l+1\n",
    "        elif u==3 and o==1:\n",
    "            print('You Lost')\n",
    "            l=l+1\n",
    "        elif u==3 and o==2:\n",
    "            print('You Won!')\n",
    "            w=w+1\n",
    "        else:\n",
    "            pass\n",
    "        print('You have won',w,'games and lost',l,'games.')\n",
    "        space=input('If you want to play again press space then enter. Type anything else then enter to quit: ')"
   ]
  },
  {
   "cell_type": "code",
   "execution_count": 14,
   "id": "6d352744",
   "metadata": {},
   "outputs": [
    {
     "name": "stdout",
     "output_type": "stream",
     "text": [
      "Enter Rock, Paper or Scissors: scissors\n",
      "You Lost\n",
      "You have won 0 games and lost 1 games.\n",
      "If you want to play again press space then enter. Type anything else then enter to quit:  \n",
      "Enter Rock, Paper or Scissors: rock\n",
      "Tied! Try Again!\n",
      "Enter Rock, Paper or Scissors: rock\n",
      "You have won 0 games and lost 1 games.\n",
      "If you want to play again press space then enter. Type anything else then enter to quit: scissors\n"
     ]
    }
   ],
   "source": [
    "rps()"
   ]
  },
  {
   "cell_type": "code",
   "execution_count": null,
   "id": "780bb176",
   "metadata": {},
   "outputs": [
    {
     "name": "stdout",
     "output_type": "stream",
     "text": [
      "Enter Rock, Paper or Scissors: paper\n",
      "Tied! Try Again!\n",
      "Enter Rock, Paper or Scissors: paper\n",
      "You have won 0 games and lost 0 games.\n"
     ]
    }
   ],
   "source": [
    "rps()"
   ]
  },
  {
   "cell_type": "code",
   "execution_count": null,
   "id": "1330ab92",
   "metadata": {},
   "outputs": [],
   "source": []
  }
 ],
 "metadata": {
  "kernelspec": {
   "display_name": "Python 3 (ipykernel)",
   "language": "python",
   "name": "python3"
  },
  "language_info": {
   "codemirror_mode": {
    "name": "ipython",
    "version": 3
   },
   "file_extension": ".py",
   "mimetype": "text/x-python",
   "name": "python",
   "nbconvert_exporter": "python",
   "pygments_lexer": "ipython3",
   "version": "3.9.13"
  }
 },
 "nbformat": 4,
 "nbformat_minor": 5
}
